{
 "cells": [
  {
   "cell_type": "markdown",
   "id": "22917d4d",
   "metadata": {
    "papermill": {
     "duration": 0.001994,
     "end_time": "2025-10-22T19:24:36.492370",
     "exception": false,
     "start_time": "2025-10-22T19:24:36.490376",
     "status": "completed"
    },
    "tags": []
   },
   "source": [
    "# The Art of Tokenization, Part 1: Byte Pair Encoding"
   ]
  },
  {
   "cell_type": "markdown",
   "id": "2fd07409",
   "metadata": {
    "papermill": {
     "duration": 0.001502,
     "end_time": "2025-10-22T19:24:36.495812",
     "exception": false,
     "start_time": "2025-10-22T19:24:36.494310",
     "status": "completed"
    },
    "tags": []
   },
   "source": [
    "Welcome to this series on the art and science of tokenization! In Natural Language Processing (NLP), before a powerful model like GPT or BERT can understand human language, we must first break that text down into pieces it can recognize. These pieces are called tokens. The process of creating them is tokenization, and it’s one of the most fundamental steps in any NLP pipeline.\n",
    "\n",
    "This series will explore the different strategies for tokenization. We’ll start with one of the most influential methods in the modern NLP landscape: Byte Pair Encoding (BPE)."
   ]
  }
 ],
 "metadata": {
  "kaggle": {
   "accelerator": "none",
   "dataSources": [],
   "dockerImageVersionId": 31153,
   "isGpuEnabled": false,
   "isInternetEnabled": true,
   "language": "python",
   "sourceType": "notebook"
  },
  "kernelspec": {
   "display_name": "Python 3",
   "language": "python",
   "name": "python3"
  },
  "language_info": {
   "codemirror_mode": {
    "name": "ipython",
    "version": 3
   },
   "file_extension": ".py",
   "mimetype": "text/x-python",
   "name": "python",
   "nbconvert_exporter": "python",
   "pygments_lexer": "ipython3",
   "version": "3.11.13"
  },
  "papermill": {
   "default_parameters": {},
   "duration": 6.296411,
   "end_time": "2025-10-22T19:24:36.919667",
   "environment_variables": {},
   "exception": null,
   "input_path": "__notebook__.ipynb",
   "output_path": "__notebook__.ipynb",
   "parameters": {},
   "start_time": "2025-10-22T19:24:30.623256",
   "version": "2.6.0"
  }
 },
 "nbformat": 4,
 "nbformat_minor": 5
}
